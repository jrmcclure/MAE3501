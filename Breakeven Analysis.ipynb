{
 "cells": [
  {
   "cell_type": "markdown",
   "metadata": {},
   "source": [
    "## Breakeven Analysis: 3D Printing vs. Injection Molding ##\n",
    "\n",
    "Detemine the breakeven point when comparing the production of the plastic enclosure for the SomniCloud\n",
    " - __Given__: Enclosure volume is $2.57 in^3$"
   ]
  },
  {
   "cell_type": "code",
   "execution_count": 18,
   "metadata": {
    "collapsed": true
   },
   "outputs": [],
   "source": [
    "part_vol = 2.57 # in^3"
   ]
  },
  {
   "cell_type": "markdown",
   "metadata": {},
   "source": [
    "### 3D Printing Specs ###\n",
    "\n",
    "- \\$4.25 / cubic inch of ABS\n",
    "- Tooling Cost: \\$0.00\n",
    "- Machine Time Cost: \\$12.00 / hour\n",
    "- Print Time: 4 hours"
   ]
  },
  {
   "cell_type": "code",
   "execution_count": 19,
   "metadata": {
    "collapsed": true
   },
   "outputs": [],
   "source": [
    "# Set 3D ABS variable constants\n",
    "usd_in3_3d = 4.25 # $/in^3\n",
    "setup_3d = 0.00 # $ Setup Cost\n",
    "mc_3d = 12.00 # $/hr\n",
    "time_3d = 4.0 # hrs"
   ]
  },
  {
   "cell_type": "markdown",
   "metadata": {},
   "source": [
    "### Injection Mold Data ###\n",
    "\n",
    "- \\$4.50 / lb ABS\n",
    "- Mold Cost: \\$6500.00\n",
    "- Machine Time Cost: \\$80.00 / hour\n",
    "- Cycle Time: 30 seconds"
   ]
  },
  {
   "cell_type": "code",
   "execution_count": 20,
   "metadata": {
    "collapsed": true
   },
   "outputs": [],
   "source": [
    "# Set Injection Mold ABS variable constants\n",
    "usd_lb_im = 6.50 # $/lb\n",
    "setup_im = 50000.00 # $ Setup Cost\n",
    "mc_im = 120.00 # $/hr\n",
    "time_im = 60 / 3600 # hrs"
   ]
  },
  {
   "cell_type": "markdown",
   "metadata": {},
   "source": [
    "### Step 1: Convert \\$ / lb to \\$ / cubic inch ###\n",
    "- Density of ABS: $\\rho_{ABS} = 1.07 g/cm^{3}$\n",
    "\n",
    "\n",
    "\\begin{equation} \n",
    "\\left(\\frac{\\$4.50}{lb}\\right) \\\n",
    "\\left(\\frac{1.07g}{cm^{3}}\\right) \\\n",
    "\\left(\\frac{2.2lb}{1000g}\\right) \\\n",
    "\\left(\\frac{2.54cm}{1in}\\right)^{3} \\\n",
    "= X \\frac{\\$}{in_{3}}\n",
    "\\end{equation}\n"
   ]
  },
  {
   "cell_type": "code",
   "execution_count": 21,
   "metadata": {
    "collapsed": true
   },
   "outputs": [],
   "source": [
    "# Create variables for given constants\n",
    "rho_abs = 1.07 # g/cm^3"
   ]
  },
  {
   "cell_type": "code",
   "execution_count": 22,
   "metadata": {},
   "outputs": [
    {
     "name": "stdout",
     "output_type": "stream",
     "text": [
      "Injection Molded ABS [$/in^3]: 0.25073846626400004\n"
     ]
    }
   ],
   "source": [
    "# Calculate $ per in^3 of injection molded ABS\n",
    "usd_in3_im = (usd_lb_im) * (rho_abs) * (2.2 / 1000) * ((2.54 / 1)**3) # $/in^3\n",
    "print(f\"Injection Molded ABS [$/in^3]: {usd_in3_im}\")"
   ]
  },
  {
   "cell_type": "markdown",
   "metadata": {},
   "source": [
    "### Step 2: Calculate Cost Functions ###\n",
    "\n",
    "- $Total\\ Cost = (Cost\\ per\\ Unit) * (Number\\ of\\ Units) + (Setup\\ Cost)$\n",
    "\n",
    "\n",
    "- $Cost\\ per\\ Unit = (ABS\\ Cost\\ per\\ Unit) + (Machine\\ Time\\ Cost\\ per\\ Unit)$\n",
    "\n",
    "\n",
    "- $ABS\\ Cost\\ per\\ Unit = (ABS\\ Cost\\ per\\ in^{3})  * (Part Volume)$\n",
    "\n",
    "\n",
    "- $Cost\\ per\\ Unit = (Machine\\ Time\\ Cost\\ per\\ Hour) + (Machine\\ Time)$\n",
    "                                                                                                                       "
   ]
  },
  {
   "cell_type": "code",
   "execution_count": 23,
   "metadata": {
    "collapsed": true
   },
   "outputs": [],
   "source": [
    "%matplotlib inline\n",
    "import numpy as np\n",
    "import matplotlib.pyplot as plt\n",
    "import math\n",
    "N = np.linspace(0,1000,10000)"
   ]
  },
  {
   "cell_type": "markdown",
   "metadata": {},
   "source": [
    "### Cost Function for 3D Printing ###                                                                                "
   ]
  },
  {
   "cell_type": "code",
   "execution_count": 24,
   "metadata": {},
   "outputs": [
    {
     "name": "stdout",
     "output_type": "stream",
     "text": [
      "3D Printing Cost per Unit: $58.92\n",
      "3D Printing Setup Cost: $0.00\n"
     ]
    }
   ],
   "source": [
    "# Cost per unit for 3D printing\n",
    "abs_cpu_3d = usd_in3_3d * part_vol # ABS Cost per Unit\n",
    "mc_cpu_3d = mc_3d * time_3d # Machine Cost per Unit\n",
    "t_cpu_3d = abs_cpu_3d + mc_cpu_3d # Total per unit cost\n",
    "\n",
    "# Cost function for 3D printing\n",
    "C_3d = (t_cpu_3d)*N + setup_3d\n",
    "\n",
    "print(f\"3D Printing Cost per Unit: ${t_cpu_3d:.2f}\")\n",
    "print(f\"3D Printing Setup Cost: ${setup_3d:.2f}\")"
   ]
  },
  {
   "cell_type": "markdown",
   "metadata": {},
   "source": [
    "### Cost Function for Injection Molding Printing ###                                                                                "
   ]
  },
  {
   "cell_type": "code",
   "execution_count": 25,
   "metadata": {},
   "outputs": [
    {
     "name": "stdout",
     "output_type": "stream",
     "text": [
      "3D Printing Cost per Unit: $2.64\n",
      "3D Printing Setup Cost: $50000.00\n"
     ]
    }
   ],
   "source": [
    "# Cost per unit for 3D printing\n",
    "abs_cpu_im = usd_in3_im * part_vol # ABS Cost per Unit\n",
    "mc_cpu_im = mc_im * time_im # Machine Cost per Unit\n",
    "t_cpu_im = abs_cpu_im + mc_cpu_im # Total per unit cost\n",
    "\n",
    "# Cost function for 3D printing\n",
    "C_im = (t_cpu_im)*N + setup_im\n",
    "\n",
    "print(f\"3D Printing Cost per Unit: ${t_cpu_im:.2f}\")\n",
    "print(f\"3D Printing Setup Cost: ${setup_im:.2f}\")"
   ]
  },
  {
   "cell_type": "markdown",
   "metadata": {},
   "source": [
    "### Step 3: Plot Results ###"
   ]
  },
  {
   "cell_type": "code",
   "execution_count": 26,
   "metadata": {},
   "outputs": [
    {
     "data": {
      "image/png": "[encoded data removed]",
      "text/plain": [
       "<matplotlib.figure.Figure at 0x1045f15c0>"
      ]
     },
     "metadata": {},
     "output_type": "display_data"
    },
    {
     "name": "stdout",
     "output_type": "stream",
     "text": [
      "Breakeven point = 889 units\n"
     ]
    }
   ],
   "source": [
    "fig, ax = plt.subplots(figsize=(12,8))\n",
    "\n",
    "ax.plot(N,C_3d, label=r\"3D Printing\")\n",
    "ax.plot(N,C_im, label=r\"Injection Molding\")\n",
    "\n",
    "idx = np.argwhere(np.diff(np.sign(C_3d - C_im)) != 0).reshape(-1) + 0\n",
    "ax.plot(N[idx], C_3d[idx], 'o', markersize=8, color='black')\n",
    "\n",
    "ax.legend(loc=2) # upper left corner\n",
    "ax.set_xlabel(r'# of Units', fontsize=18)\n",
    "ax.set_ylabel(r'Total Cost', fontsize=18)\n",
    "ax.set_title('Breakeven Analysis')\n",
    "\n",
    "ax.set_xlim([min(N), max(N)])\n",
    "ax.set_ylim([0, max(C_3d)])\n",
    "plt.show()\n",
    "\n",
    "print(f\"Breakeven point = {math.ceil(N[idx])} units\")"
   ]
  },
  {
   "cell_type": "code",
   "execution_count": null,
   "metadata": {
    "collapsed": true
   },
   "outputs": [],
   "source": []
  }
 ],
 "metadata": {
  "kernelspec": {
   "display_name": "Python 3",
   "language": "python",
   "name": "python3"
  },
  "language_info": {
   "codemirror_mode": {
    "name": "ipython",
    "version": 3
   },
   "file_extension": ".py",
   "mimetype": "text/x-python",
   "name": "python",
   "nbconvert_exporter": "python",
   "pygments_lexer": "ipython3",
   "version": "3.6.1"
  }
 },
 "nbformat": 4,
 "nbformat_minor": 2
}
